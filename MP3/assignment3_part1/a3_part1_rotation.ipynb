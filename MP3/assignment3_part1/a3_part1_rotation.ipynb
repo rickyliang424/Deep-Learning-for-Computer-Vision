{
 "cells": [
  {
   "cell_type": "markdown",
   "metadata": {
    "id": "IWMWW8Ab_345"
   },
   "source": [
    "# (Optional) Colab Setup\n",
    "If you aren't using Colab, you can delete the following code cell. This is just to help students with mounting to Google Drive to access the other .py files and downloading the data, which is a little trickier on Colab than on your local machine using Jupyter."
   ]
  },
  {
   "cell_type": "code",
   "execution_count": 1,
   "metadata": {
    "colab": {
     "base_uri": "https://localhost:8080/"
    },
    "executionInfo": {
     "elapsed": 14612,
     "status": "ok",
     "timestamp": 1711776126622,
     "user": {
      "displayName": "Huey-Chii Liang (Ricky)",
      "userId": "11701612693566242651"
     },
     "user_tz": 300
    },
    "id": "vH4wc4iD_6w_",
    "outputId": "36603a03-972f-4b70-b388-2490852dd455"
   },
   "outputs": [
    {
     "name": "stdout",
     "output_type": "stream",
     "text": [
      "Mounted at /content/drive\n"
     ]
    }
   ],
   "source": [
    "# you will be prompted with a window asking to grant permissions\n",
    "from google.colab import drive\n",
    "drive.mount(\"/content/drive\")"
   ]
  },
  {
   "cell_type": "code",
   "execution_count": 2,
   "metadata": {
    "colab": {
     "base_uri": "https://localhost:8080/"
    },
    "executionInfo": {
     "elapsed": 199,
     "status": "ok",
     "timestamp": 1711776128789,
     "user": {
      "displayName": "Huey-Chii Liang (Ricky)",
      "userId": "11701612693566242651"
     },
     "user_tz": 300
    },
    "id": "XpNsPHZc_879",
    "outputId": "2f323c8a-a57e-4626-f8bc-b54eabf453d5"
   },
   "outputs": [
    {
     "name": "stdout",
     "output_type": "stream",
     "text": [
      "/content/drive/MyDrive/assignment3_part1\n"
     ]
    }
   ],
   "source": [
    "# fill in the path in your Google Drive in the string below. Note: do not escape slashes or spaces\n",
    "import os\n",
    "datadir = \"/content/drive/MyDrive/assignment3_part1/\"\n",
    "if not os.path.exists(datadir):\n",
    "  !ln -s \"/content/drive/MyDrive/assignment3_part1/\" $datadir # TODO: Fill your Assignment 3 path\n",
    "os.chdir(datadir)\n",
    "!pwd"
   ]
  },
  {
   "cell_type": "markdown",
   "metadata": {
    "id": "Um5DJvBwb6xT"
   },
   "source": [
    "#Data Setup\n",
    "\n",
    "The first thing to do is implement a dataset class to load rotated CIFAR10 images with matching labels. Since there is already a CIFAR10 dataset class implemented in `torchvision`, we will extend this class and modify the `__getitem__` method appropriately to load rotated images.\n",
    "\n",
    "Each rotation label should be an integer in the set {0, 1, 2, 3} which correspond to rotations of 0, 90, 180, or 270 degrees respectively."
   ]
  },
  {
   "cell_type": "code",
   "execution_count": 1,
   "metadata": {
    "executionInfo": {
     "elapsed": 7007,
     "status": "ok",
     "timestamp": 1711776137900,
     "user": {
      "displayName": "Huey-Chii Liang (Ricky)",
      "userId": "11701612693566242651"
     },
     "user_tz": 300
    },
    "id": "oHkeNUOKiFbP"
   },
   "outputs": [],
   "source": [
    "import torch\n",
    "import torchvision\n",
    "import torchvision.transforms as transforms\n",
    "import numpy as np\n",
    "import random\n",
    "\n",
    "def rotate_img(img, rot):\n",
    "    if rot == 0: # 0 degrees rotation\n",
    "        return img\n",
    "    # TODO: Implement rotate_img() - return the rotated img\n",
    "    elif rot == 1:\n",
    "        img_rot = transforms.functional.rotate(img, 90)\n",
    "        return img_rot\n",
    "    elif rot == 2:\n",
    "        img_rot = transforms.functional.rotate(img, 180)\n",
    "        return img_rot\n",
    "    elif rot == 3:\n",
    "        img_rot = transforms.functional.rotate(img, 270)\n",
    "        return img_rot\n",
    "    else:\n",
    "        raise ValueError('rotation should be 0, 90, 180, or 270 degrees')\n",
    "\n",
    "class CIFAR10Rotation(torchvision.datasets.CIFAR10):\n",
    "\n",
    "    def __init__(self, root, train, download, transform) -> None:\n",
    "        super().__init__(root=root, train=train, download=download, transform=transform)\n",
    "\n",
    "    def __len__(self):\n",
    "        return len(self.data)\n",
    "\n",
    "    def __getitem__(self, index: int):\n",
    "        image, cls_label = super().__getitem__(index)\n",
    "\n",
    "        # randomly select image rotation\n",
    "        rotation_label = random.choice([0, 1, 2, 3])\n",
    "        image_rotated = rotate_img(image, rotation_label)\n",
    "\n",
    "        rotation_label = torch.tensor(rotation_label).long()\n",
    "        return image, image_rotated, rotation_label, torch.tensor(cls_label).long()\n"
   ]
  },
  {
   "cell_type": "code",
   "execution_count": 2,
   "metadata": {
    "colab": {
     "base_uri": "https://localhost:8080/"
    },
    "executionInfo": {
     "elapsed": 12519,
     "status": "ok",
     "timestamp": 1711776151797,
     "user": {
      "displayName": "Huey-Chii Liang (Ricky)",
      "userId": "11701612693566242651"
     },
     "user_tz": 300
    },
    "id": "CCBSpNWpb8uw",
    "outputId": "90b0687c-6838-4cee-b2b6-f7230bc38714"
   },
   "outputs": [
    {
     "name": "stdout",
     "output_type": "stream",
     "text": [
      "Downloading https://www.cs.toronto.edu/~kriz/cifar-10-python.tar.gz to ./data/cifar-10-python.tar.gz\n"
     ]
    },
    {
     "data": {
      "application/vnd.jupyter.widget-view+json": {
       "model_id": "f48d1d9a80b54ca6b0f26f7e608dad69",
       "version_major": 2,
       "version_minor": 0
      },
      "text/plain": [
       "  0%|          | 0/170498071 [00:00<?, ?it/s]"
      ]
     },
     "metadata": {},
     "output_type": "display_data"
    },
    {
     "name": "stdout",
     "output_type": "stream",
     "text": [
      "Extracting ./data/cifar-10-python.tar.gz to ./data\n",
      "Files already downloaded and verified\n"
     ]
    }
   ],
   "source": [
    "transform_train = transforms.Compose([\n",
    "    transforms.RandomCrop(32, padding=4),\n",
    "    transforms.RandomHorizontalFlip(),\n",
    "    transforms.ToTensor(),\n",
    "    transforms.Normalize((0.4914, 0.4822, 0.4465), (0.2023, 0.1994, 0.2010)),\n",
    "])\n",
    "\n",
    "transform_test = transforms.Compose([\n",
    "    transforms.ToTensor(),\n",
    "    transforms.Normalize((0.4914, 0.4822, 0.4465), (0.2023, 0.1994, 0.2010)),\n",
    "])\n",
    "\n",
    "batch_size = 128\n",
    "\n",
    "trainset = CIFAR10Rotation(root='./data', train=True,\n",
    "                                        download=True, transform=transform_train)\n",
    "trainloader = torch.utils.data.DataLoader(trainset, batch_size=batch_size,\n",
    "                                          shuffle=True, num_workers=2)\n",
    "\n",
    "testset = CIFAR10Rotation(root='./data', train=False,\n",
    "                                       download=True, transform=transform_test)\n",
    "testloader = torch.utils.data.DataLoader(testset, batch_size=batch_size,\n",
    "                                         shuffle=False, num_workers=2)"
   ]
  },
  {
   "cell_type": "markdown",
   "metadata": {
    "id": "dOCWMyGhVOJB"
   },
   "source": [
    "### Show some example images and rotated images with labels:"
   ]
  },
  {
   "cell_type": "code",
   "execution_count": 3,
   "metadata": {
    "colab": {
     "base_uri": "https://localhost:8080/",
     "height": 431
    },
    "executionInfo": {
     "elapsed": 1100,
     "status": "ok",
     "timestamp": 1711776154121,
     "user": {
      "displayName": "Huey-Chii Liang (Ricky)",
      "userId": "11701612693566242651"
     },
     "user_tz": 300
    },
    "id": "A9wN4BJWVMzB",
    "outputId": "f8ae118d-fd6f-4d14-8685-9d6eaf0b728a"
   },
   "outputs": [
    {
     "name": "stderr",
     "output_type": "stream",
     "text": [
      "Clipping input data to the valid range for imshow with RGB data ([0..1] for floats or [0..255] for integers).\n"
     ]
    },
    {
     "data": {
      "image/png": "[encoded data removed]",
      "text/plain": [
       "<Figure size 640x480 with 1 Axes>"
      ]
     },
     "metadata": {},
     "output_type": "display_data"
    },
    {
     "name": "stderr",
     "output_type": "stream",
     "text": [
      "Clipping input data to the valid range for imshow with RGB data ([0..1] for floats or [0..255] for integers).\n"
     ]
    },
    {
     "name": "stdout",
     "output_type": "stream",
     "text": [
      "Class labels:  frog  horse frog  dog  \n"
     ]
    },
    {
     "data": {
      "image/png": "[encoded data removed]",
      "text/plain": [
       "<Figure size 640x480 with 1 Axes>"
      ]
     },
     "metadata": {},
     "output_type": "display_data"
    },
    {
     "name": "stdout",
     "output_type": "stream",
     "text": [
      "Rotation labels:  0     90    90    0    \n"
     ]
    }
   ],
   "source": [
    "import matplotlib.pyplot as plt\n",
    "\n",
    "classes = ('plane', 'car', 'bird', 'cat',\n",
    "           'deer', 'dog', 'frog', 'horse', 'ship', 'truck')\n",
    "\n",
    "rot_classes = ('0', '90', '180', '270')\n",
    "\n",
    "\n",
    "def imshow(img):\n",
    "    # unnormalize\n",
    "    img = transforms.Normalize((0, 0, 0), (1/0.2023, 1/0.1994, 1/0.2010))(img)\n",
    "    img = transforms.Normalize((-0.4914, -0.4822, -0.4465), (1, 1, 1))(img)\n",
    "    npimg = img.numpy()\n",
    "    plt.imshow(np.transpose(npimg, (1, 2, 0)))\n",
    "    plt.show()\n",
    "\n",
    "\n",
    "dataiter = iter(trainloader)\n",
    "images, rot_images, rot_labels, labels = next(dataiter)\n",
    "\n",
    "# print images and rotated images\n",
    "img_grid = imshow(torchvision.utils.make_grid(images[:4], padding=0))\n",
    "print('Class labels: ', ' '.join(f'{classes[labels[j]]:5s}' for j in range(4)))\n",
    "img_grid = imshow(torchvision.utils.make_grid(rot_images[:4], padding=0))\n",
    "print('Rotation labels: ', ' '.join(f'{rot_classes[rot_labels[j]]:5s}' for j in range(4)))"
   ]
  },
  {
   "cell_type": "markdown",
   "metadata": {
    "id": "unCucbHexG4W"
   },
   "source": [
    "# Evaluation code"
   ]
  },
  {
   "cell_type": "code",
   "execution_count": 4,
   "metadata": {
    "executionInfo": {
     "elapsed": 100,
     "status": "ok",
     "timestamp": 1711776159844,
     "user": {
      "displayName": "Huey-Chii Liang (Ricky)",
      "userId": "11701612693566242651"
     },
     "user_tz": 300
    },
    "id": "pptQRpqK0rOl"
   },
   "outputs": [],
   "source": [
    "import time\n",
    "\n",
    "def run_test(net, testloader, criterion, task):\n",
    "    correct = 0\n",
    "    total = 0\n",
    "    avg_test_loss = 0.0\n",
    "    # since we're not training, we don't need to calculate the gradients for our outputs\n",
    "    with torch.no_grad():\n",
    "        for images, images_rotated, labels, cls_labels in testloader:\n",
    "            if task == 'rotation':\n",
    "                images, labels = images_rotated.to(device), labels.to(device)\n",
    "            elif task == 'classification':\n",
    "                images, labels = images.to(device), cls_labels.to(device)\n",
    "            # TODO: Calculate outputs by running images through the network\n",
    "            # The class with the highest energy is what we choose as prediction\n",
    "            outputs = net(images)\n",
    "            _, predicted = torch.max(outputs, 1)\n",
    "            correct = correct + (predicted == labels).sum().item()\n",
    "            total = total + labels.size(0)\n",
    "            # loss\n",
    "            avg_test_loss += criterion(outputs, labels) / len(testloader)\n",
    "    print('TESTING:')\n",
    "    print(f'Accuracy of the network on the 10000 test images: {100 * correct / total:.2f} %')\n",
    "    print(f'Average loss on the 10000 test images: {avg_test_loss:.3f}')"
   ]
  },
  {
   "cell_type": "code",
   "execution_count": 5,
   "metadata": {
    "executionInfo": {
     "elapsed": 113,
     "status": "ok",
     "timestamp": 1711776162384,
     "user": {
      "displayName": "Huey-Chii Liang (Ricky)",
      "userId": "11701612693566242651"
     },
     "user_tz": 300
    },
    "id": "hf698c16A9k5"
   },
   "outputs": [],
   "source": [
    "def adjust_learning_rate(optimizer, epoch, init_lr, decay_epochs=30):\n",
    "    \"\"\"Sets the learning rate to the initial LR decayed by 10 every 30 epochs\"\"\"\n",
    "    lr = init_lr * (0.1 ** (epoch // decay_epochs))\n",
    "    for param_group in optimizer.param_groups:\n",
    "        param_group['lr'] = lr"
   ]
  },
  {
   "cell_type": "markdown",
   "metadata": {
    "id": "3lYdnb1Wsta_"
   },
   "source": [
    "# Train a ResNet18 on the rotation task\n",
    "\n",
    "### In this section, we will train a ResNet18 model on the rotation task. The input is a rotated image and the model predicts the rotation label. See the Data Setup section for details."
   ]
  },
  {
   "cell_type": "code",
   "execution_count": 6,
   "metadata": {
    "colab": {
     "base_uri": "https://localhost:8080/",
     "height": 36
    },
    "executionInfo": {
     "elapsed": 82,
     "status": "ok",
     "timestamp": 1711776165103,
     "user": {
      "displayName": "Huey-Chii Liang (Ricky)",
      "userId": "11701612693566242651"
     },
     "user_tz": 300
    },
    "id": "knAiwdURvBHk",
    "outputId": "8ac65ce7-e611-467b-dbad-cbfd311d8d09"
   },
   "outputs": [
    {
     "data": {
      "text/plain": [
       "'cuda'"
      ]
     },
     "execution_count": 6,
     "metadata": {},
     "output_type": "execute_result"
    }
   ],
   "source": [
    "device = 'cuda' if torch.cuda.is_available() else 'cpu'\n",
    "device"
   ]
  },
  {
   "cell_type": "code",
   "execution_count": 7,
   "metadata": {
    "executionInfo": {
     "elapsed": 828,
     "status": "ok",
     "timestamp": 1711776173009,
     "user": {
      "displayName": "Huey-Chii Liang (Ricky)",
      "userId": "11701612693566242651"
     },
     "user_tz": 300
    },
    "id": "235MEIUgsv65"
   },
   "outputs": [],
   "source": [
    "import torch.nn as nn\n",
    "import torch.nn.functional as F\n",
    "\n",
    "from torchvision.models import resnet18\n",
    "\n",
    "net = resnet18(num_classes=4)\n",
    "net = net.to(device)"
   ]
  },
  {
   "cell_type": "code",
   "execution_count": 8,
   "metadata": {
    "executionInfo": {
     "elapsed": 86,
     "status": "ok",
     "timestamp": 1711776174893,
     "user": {
      "displayName": "Huey-Chii Liang (Ricky)",
      "userId": "11701612693566242651"
     },
     "user_tz": 300
    },
    "id": "Vuhiw0ZoszAd"
   },
   "outputs": [],
   "source": [
    "import torch.optim as optim\n",
    "criterion = None\n",
    "optimizer = None\n",
    "\n",
    "# TODO: Define criterion and optimizer\n",
    "criterion = nn.CrossEntropyLoss()\n",
    "optimizer = optim.SGD(net.parameters(), lr=0.001, momentum=0.9)\n"
   ]
  },
  {
   "cell_type": "code",
   "execution_count": 9,
   "metadata": {
    "executionInfo": {
     "elapsed": 83,
     "status": "ok",
     "timestamp": 1711776181259,
     "user": {
      "displayName": "Huey-Chii Liang (Ricky)",
      "userId": "11701612693566242651"
     },
     "user_tz": 300
    },
    "id": "WleH-YBgs0rq"
   },
   "outputs": [],
   "source": [
    "# Both the self-supervised rotation task and supervised CIFAR10 classification are\n",
    "# trained with the CrossEntropyLoss, so we can use the training loop code.\n",
    "\n",
    "def train(net, criterion, optimizer, num_epochs, decay_epochs, init_lr, task):\n",
    "\n",
    "    for epoch in range(num_epochs):  # loop over the dataset multiple times\n",
    "\n",
    "        running_loss = 0.0\n",
    "        running_correct = 0.0\n",
    "        running_total = 0.0\n",
    "        start_time = time.time()\n",
    "\n",
    "        net.train()\n",
    "\n",
    "        for i, (imgs, imgs_rotated, rotation_label, cls_label) in enumerate(trainloader, 0):\n",
    "            adjust_learning_rate(optimizer, epoch, init_lr, decay_epochs)\n",
    "\n",
    "            # TODO: Set the data to the correct device; Different task will use different inputs and labels\n",
    "            if task == 'rotation':\n",
    "                inputs = imgs_rotated.to(device)\n",
    "                labels = rotation_label.to(device)\n",
    "            elif task == 'classification':\n",
    "                inputs = imgs.to(device)\n",
    "                labels = cls_label.to(device)\n",
    "            else:\n",
    "                raise ValueError('invalid task name')\n",
    "\n",
    "            # TODO: Zero the parameter gradients\n",
    "            optimizer.zero_grad()\n",
    "\n",
    "            # TODO: forward + backward + optimize\n",
    "            outputs = net(inputs)\n",
    "            loss = criterion(outputs, labels)\n",
    "            loss.backward()\n",
    "            optimizer.step()\n",
    "\n",
    "            # TODO: Get predicted results\n",
    "            _, predicted = torch.max(outputs, 1)\n",
    "\n",
    "            # print statistics\n",
    "            print_freq = 100\n",
    "            running_loss += loss.item()\n",
    "\n",
    "            # calc acc\n",
    "            running_total += labels.size(0)\n",
    "            running_correct += (predicted == labels).sum().item()\n",
    "\n",
    "            if i % print_freq == (print_freq - 1):    # print every 2000 mini-batches\n",
    "                print(f'[{epoch + 1}, {i + 1:5d}] loss: {running_loss / print_freq:.3f} acc: {100*running_correct / running_total:.2f} time: {time.time() - start_time:.2f}')\n",
    "                running_loss, running_correct, running_total = 0.0, 0.0, 0.0\n",
    "                start_time = time.time()\n",
    "\n",
    "        # TODO: Run the run_test() function after each epoch; Set the model to the evaluation mode.\n",
    "        net.eval()\n",
    "        run_test(net, testloader, criterion, task)\n",
    "\n",
    "    print('Finished Training')"
   ]
  },
  {
   "cell_type": "code",
   "execution_count": 10,
   "metadata": {
    "colab": {
     "base_uri": "https://localhost:8080/"
    },
    "executionInfo": {
     "elapsed": 1912633,
     "status": "ok",
     "timestamp": 1711770843806,
     "user": {
      "displayName": "Huey-Chii Liang (Ricky)",
      "userId": "11701612693566242651"
     },
     "user_tz": 300
    },
    "id": "2u4AsfAKtaQS",
    "outputId": "c05ce4a0-db1d-4f93-82c4-f979492b2ebb"
   },
   "outputs": [
    {
     "name": "stdout",
     "output_type": "stream",
     "text": [
      "[1,   100] loss: 1.358 acc: 39.19 time: 22.77\n",
      "[1,   200] loss: 1.178 acc: 47.58 time: 12.96\n",
      "[1,   300] loss: 1.160 acc: 49.27 time: 12.97\n",
      "TESTING:\n",
      "Accuracy of the network on the 10000 test images: 51.11 %\n",
      "Average loss on the 10000 test images: 1.151\n",
      "[2,   100] loss: 1.107 acc: 51.95 time: 13.09\n",
      "[2,   200] loss: 1.082 acc: 53.75 time: 12.99\n",
      "[2,   300] loss: 1.065 acc: 55.02 time: 12.94\n",
      "TESTING:\n",
      "Accuracy of the network on the 10000 test images: 57.73 %\n",
      "Average loss on the 10000 test images: 1.009\n",
      "[3,   100] loss: 1.030 acc: 56.60 time: 13.13\n",
      "[3,   200] loss: 1.012 acc: 57.20 time: 12.94\n",
      "[3,   300] loss: 1.010 acc: 57.36 time: 12.94\n",
      "TESTING:\n",
      "Accuracy of the network on the 10000 test images: 59.63 %\n",
      "Average loss on the 10000 test images: 0.955\n",
      "[4,   100] loss: 1.007 acc: 57.88 time: 13.08\n",
      "[4,   200] loss: 0.984 acc: 58.47 time: 12.91\n",
      "[4,   300] loss: 0.966 acc: 59.70 time: 12.93\n",
      "TESTING:\n",
      "Accuracy of the network on the 10000 test images: 60.52 %\n",
      "Average loss on the 10000 test images: 0.954\n",
      "[5,   100] loss: 0.939 acc: 61.06 time: 13.07\n",
      "[5,   200] loss: 0.962 acc: 59.87 time: 12.94\n",
      "[5,   300] loss: 0.933 acc: 60.80 time: 12.91\n",
      "TESTING:\n",
      "Accuracy of the network on the 10000 test images: 63.50 %\n",
      "Average loss on the 10000 test images: 0.874\n",
      "[6,   100] loss: 0.922 acc: 61.68 time: 13.18\n",
      "[6,   200] loss: 0.914 acc: 61.84 time: 12.96\n",
      "[6,   300] loss: 0.902 acc: 62.27 time: 12.93\n",
      "TESTING:\n",
      "Accuracy of the network on the 10000 test images: 63.70 %\n",
      "Average loss on the 10000 test images: 0.875\n",
      "[7,   100] loss: 0.898 acc: 63.27 time: 13.17\n",
      "[7,   200] loss: 0.884 acc: 63.55 time: 12.95\n",
      "[7,   300] loss: 0.898 acc: 62.98 time: 12.97\n",
      "TESTING:\n",
      "Accuracy of the network on the 10000 test images: 64.59 %\n",
      "Average loss on the 10000 test images: 0.844\n",
      "[8,   100] loss: 0.868 acc: 64.39 time: 13.15\n",
      "[8,   200] loss: 0.866 acc: 64.29 time: 13.00\n",
      "[8,   300] loss: 0.866 acc: 64.34 time: 13.01\n",
      "TESTING:\n",
      "Accuracy of the network on the 10000 test images: 63.61 %\n",
      "Average loss on the 10000 test images: 0.877\n",
      "[9,   100] loss: 0.867 acc: 64.01 time: 13.13\n",
      "[9,   200] loss: 0.867 acc: 63.95 time: 13.01\n",
      "[9,   300] loss: 0.850 acc: 64.68 time: 12.94\n",
      "TESTING:\n",
      "Accuracy of the network on the 10000 test images: 66.73 %\n",
      "Average loss on the 10000 test images: 0.810\n",
      "[10,   100] loss: 0.838 acc: 65.49 time: 13.14\n",
      "[10,   200] loss: 0.852 acc: 64.96 time: 12.96\n",
      "[10,   300] loss: 0.830 acc: 66.61 time: 13.04\n",
      "TESTING:\n",
      "Accuracy of the network on the 10000 test images: 66.77 %\n",
      "Average loss on the 10000 test images: 0.819\n",
      "[11,   100] loss: 0.842 acc: 65.09 time: 13.12\n",
      "[11,   200] loss: 0.822 acc: 66.23 time: 13.00\n",
      "[11,   300] loss: 0.818 acc: 66.50 time: 13.01\n",
      "TESTING:\n",
      "Accuracy of the network on the 10000 test images: 68.11 %\n",
      "Average loss on the 10000 test images: 0.782\n",
      "[12,   100] loss: 0.805 acc: 67.10 time: 13.13\n",
      "[12,   200] loss: 0.800 acc: 67.21 time: 12.94\n",
      "[12,   300] loss: 0.819 acc: 66.59 time: 12.97\n",
      "TESTING:\n",
      "Accuracy of the network on the 10000 test images: 68.99 %\n",
      "Average loss on the 10000 test images: 0.773\n",
      "[13,   100] loss: 0.796 acc: 67.84 time: 13.13\n",
      "[13,   200] loss: 0.809 acc: 66.72 time: 13.01\n",
      "[13,   300] loss: 0.786 acc: 68.22 time: 12.94\n",
      "TESTING:\n",
      "Accuracy of the network on the 10000 test images: 68.20 %\n",
      "Average loss on the 10000 test images: 0.779\n",
      "[14,   100] loss: 0.796 acc: 67.67 time: 13.16\n",
      "[14,   200] loss: 0.777 acc: 68.36 time: 12.94\n",
      "[14,   300] loss: 0.783 acc: 68.05 time: 12.96\n",
      "TESTING:\n",
      "Accuracy of the network on the 10000 test images: 69.34 %\n",
      "Average loss on the 10000 test images: 0.751\n",
      "[15,   100] loss: 0.765 acc: 69.02 time: 13.16\n",
      "[15,   200] loss: 0.789 acc: 68.00 time: 12.97\n",
      "[15,   300] loss: 0.769 acc: 68.84 time: 12.94\n",
      "TESTING:\n",
      "Accuracy of the network on the 10000 test images: 68.50 %\n",
      "Average loss on the 10000 test images: 0.787\n",
      "[16,   100] loss: 0.745 acc: 69.92 time: 13.20\n",
      "[16,   200] loss: 0.735 acc: 70.30 time: 12.94\n",
      "[16,   300] loss: 0.721 acc: 71.23 time: 12.98\n",
      "TESTING:\n",
      "Accuracy of the network on the 10000 test images: 72.20 %\n",
      "Average loss on the 10000 test images: 0.691\n",
      "[17,   100] loss: 0.720 acc: 70.80 time: 13.22\n",
      "[17,   200] loss: 0.715 acc: 71.36 time: 12.94\n",
      "[17,   300] loss: 0.714 acc: 70.91 time: 12.98\n",
      "TESTING:\n",
      "Accuracy of the network on the 10000 test images: 72.79 %\n",
      "Average loss on the 10000 test images: 0.680\n",
      "[18,   100] loss: 0.713 acc: 70.87 time: 13.13\n",
      "[18,   200] loss: 0.708 acc: 71.59 time: 13.03\n",
      "[18,   300] loss: 0.707 acc: 71.52 time: 12.96\n",
      "TESTING:\n",
      "Accuracy of the network on the 10000 test images: 72.79 %\n",
      "Average loss on the 10000 test images: 0.685\n",
      "[19,   100] loss: 0.721 acc: 71.33 time: 13.14\n",
      "[19,   200] loss: 0.702 acc: 71.73 time: 13.01\n",
      "[19,   300] loss: 0.706 acc: 71.29 time: 13.01\n",
      "TESTING:\n",
      "Accuracy of the network on the 10000 test images: 73.40 %\n",
      "Average loss on the 10000 test images: 0.669\n",
      "[20,   100] loss: 0.707 acc: 71.48 time: 13.12\n",
      "[20,   200] loss: 0.703 acc: 71.32 time: 12.95\n",
      "[20,   300] loss: 0.695 acc: 72.22 time: 13.01\n",
      "TESTING:\n",
      "Accuracy of the network on the 10000 test images: 73.18 %\n",
      "Average loss on the 10000 test images: 0.674\n",
      "[21,   100] loss: 0.687 acc: 72.55 time: 13.17\n",
      "[21,   200] loss: 0.699 acc: 71.93 time: 13.00\n",
      "[21,   300] loss: 0.697 acc: 71.86 time: 13.04\n",
      "TESTING:\n",
      "Accuracy of the network on the 10000 test images: 73.84 %\n",
      "Average loss on the 10000 test images: 0.664\n",
      "[22,   100] loss: 0.692 acc: 72.31 time: 13.13\n",
      "[22,   200] loss: 0.698 acc: 71.85 time: 13.00\n",
      "[22,   300] loss: 0.697 acc: 71.93 time: 12.98\n",
      "TESTING:\n",
      "Accuracy of the network on the 10000 test images: 73.26 %\n",
      "Average loss on the 10000 test images: 0.669\n",
      "[23,   100] loss: 0.683 acc: 72.62 time: 13.14\n",
      "[23,   200] loss: 0.694 acc: 71.95 time: 12.97\n",
      "[23,   300] loss: 0.685 acc: 72.97 time: 13.00\n",
      "TESTING:\n",
      "Accuracy of the network on the 10000 test images: 73.40 %\n",
      "Average loss on the 10000 test images: 0.668\n",
      "[24,   100] loss: 0.688 acc: 72.24 time: 13.12\n",
      "[24,   200] loss: 0.679 acc: 72.65 time: 12.97\n",
      "[24,   300] loss: 0.695 acc: 72.25 time: 12.95\n",
      "TESTING:\n",
      "Accuracy of the network on the 10000 test images: 73.95 %\n",
      "Average loss on the 10000 test images: 0.658\n",
      "[25,   100] loss: 0.700 acc: 72.14 time: 13.12\n",
      "[25,   200] loss: 0.687 acc: 72.06 time: 13.00\n",
      "[25,   300] loss: 0.678 acc: 72.69 time: 12.95\n",
      "TESTING:\n",
      "Accuracy of the network on the 10000 test images: 73.34 %\n",
      "Average loss on the 10000 test images: 0.659\n",
      "[26,   100] loss: 0.682 acc: 72.58 time: 13.17\n",
      "[26,   200] loss: 0.682 acc: 72.68 time: 12.95\n",
      "[26,   300] loss: 0.685 acc: 72.55 time: 12.96\n",
      "TESTING:\n",
      "Accuracy of the network on the 10000 test images: 73.73 %\n",
      "Average loss on the 10000 test images: 0.654\n",
      "[27,   100] loss: 0.684 acc: 72.72 time: 13.16\n",
      "[27,   200] loss: 0.681 acc: 72.57 time: 12.92\n",
      "[27,   300] loss: 0.678 acc: 72.60 time: 12.95\n",
      "TESTING:\n",
      "Accuracy of the network on the 10000 test images: 73.76 %\n",
      "Average loss on the 10000 test images: 0.650\n",
      "[28,   100] loss: 0.680 acc: 72.94 time: 13.10\n",
      "[28,   200] loss: 0.687 acc: 72.11 time: 12.99\n",
      "[28,   300] loss: 0.673 acc: 72.88 time: 12.97\n",
      "TESTING:\n",
      "Accuracy of the network on the 10000 test images: 73.89 %\n",
      "Average loss on the 10000 test images: 0.656\n",
      "[29,   100] loss: 0.681 acc: 72.65 time: 13.14\n",
      "[29,   200] loss: 0.683 acc: 72.43 time: 13.00\n",
      "[29,   300] loss: 0.671 acc: 73.31 time: 12.98\n",
      "TESTING:\n",
      "Accuracy of the network on the 10000 test images: 74.35 %\n",
      "Average loss on the 10000 test images: 0.645\n",
      "[30,   100] loss: 0.662 acc: 73.59 time: 13.16\n",
      "[30,   200] loss: 0.674 acc: 72.70 time: 12.97\n",
      "[30,   300] loss: 0.671 acc: 73.05 time: 12.98\n",
      "TESTING:\n",
      "Accuracy of the network on the 10000 test images: 73.70 %\n",
      "Average loss on the 10000 test images: 0.655\n",
      "[31,   100] loss: 0.674 acc: 72.91 time: 13.13\n",
      "[31,   200] loss: 0.668 acc: 73.02 time: 13.01\n",
      "[31,   300] loss: 0.680 acc: 73.04 time: 13.00\n",
      "TESTING:\n",
      "Accuracy of the network on the 10000 test images: 74.37 %\n",
      "Average loss on the 10000 test images: 0.640\n",
      "[32,   100] loss: 0.673 acc: 73.12 time: 13.15\n",
      "[32,   200] loss: 0.666 acc: 73.73 time: 12.96\n",
      "[32,   300] loss: 0.668 acc: 72.97 time: 12.96\n",
      "TESTING:\n",
      "Accuracy of the network on the 10000 test images: 74.57 %\n",
      "Average loss on the 10000 test images: 0.641\n",
      "[33,   100] loss: 0.664 acc: 73.59 time: 13.10\n",
      "[33,   200] loss: 0.673 acc: 73.44 time: 12.98\n",
      "[33,   300] loss: 0.670 acc: 73.14 time: 13.02\n",
      "TESTING:\n",
      "Accuracy of the network on the 10000 test images: 74.66 %\n",
      "Average loss on the 10000 test images: 0.640\n",
      "[34,   100] loss: 0.661 acc: 73.71 time: 13.12\n",
      "[34,   200] loss: 0.664 acc: 73.61 time: 12.99\n",
      "[34,   300] loss: 0.675 acc: 72.95 time: 12.95\n",
      "TESTING:\n",
      "Accuracy of the network on the 10000 test images: 74.57 %\n",
      "Average loss on the 10000 test images: 0.645\n",
      "[35,   100] loss: 0.659 acc: 73.90 time: 13.17\n",
      "[35,   200] loss: 0.665 acc: 73.40 time: 12.94\n",
      "[35,   300] loss: 0.672 acc: 73.02 time: 12.97\n",
      "TESTING:\n",
      "Accuracy of the network on the 10000 test images: 74.27 %\n",
      "Average loss on the 10000 test images: 0.644\n",
      "[36,   100] loss: 0.680 acc: 72.84 time: 13.20\n",
      "[36,   200] loss: 0.668 acc: 73.28 time: 12.95\n",
      "[36,   300] loss: 0.662 acc: 73.90 time: 12.95\n",
      "TESTING:\n",
      "Accuracy of the network on the 10000 test images: 74.45 %\n",
      "Average loss on the 10000 test images: 0.643\n",
      "[37,   100] loss: 0.666 acc: 73.31 time: 13.21\n",
      "[37,   200] loss: 0.662 acc: 73.72 time: 12.97\n",
      "[37,   300] loss: 0.663 acc: 73.72 time: 12.97\n",
      "TESTING:\n",
      "Accuracy of the network on the 10000 test images: 74.74 %\n",
      "Average loss on the 10000 test images: 0.641\n",
      "[38,   100] loss: 0.656 acc: 74.10 time: 13.13\n",
      "[38,   200] loss: 0.666 acc: 73.27 time: 13.00\n",
      "[38,   300] loss: 0.667 acc: 73.13 time: 12.94\n",
      "TESTING:\n",
      "Accuracy of the network on the 10000 test images: 74.85 %\n",
      "Average loss on the 10000 test images: 0.635\n",
      "[39,   100] loss: 0.666 acc: 72.88 time: 13.12\n",
      "[39,   200] loss: 0.657 acc: 73.63 time: 13.04\n",
      "[39,   300] loss: 0.663 acc: 73.49 time: 12.94\n",
      "TESTING:\n",
      "Accuracy of the network on the 10000 test images: 74.74 %\n",
      "Average loss on the 10000 test images: 0.639\n",
      "[40,   100] loss: 0.660 acc: 73.25 time: 13.13\n",
      "[40,   200] loss: 0.671 acc: 73.16 time: 12.96\n",
      "[40,   300] loss: 0.667 acc: 73.56 time: 13.03\n",
      "TESTING:\n",
      "Accuracy of the network on the 10000 test images: 74.48 %\n",
      "Average loss on the 10000 test images: 0.640\n",
      "[41,   100] loss: 0.673 acc: 72.80 time: 13.09\n",
      "[41,   200] loss: 0.669 acc: 73.71 time: 12.93\n",
      "[41,   300] loss: 0.648 acc: 74.04 time: 13.00\n",
      "TESTING:\n",
      "Accuracy of the network on the 10000 test images: 74.80 %\n",
      "Average loss on the 10000 test images: 0.639\n",
      "[42,   100] loss: 0.659 acc: 73.46 time: 13.15\n",
      "[42,   200] loss: 0.662 acc: 73.77 time: 12.99\n",
      "[42,   300] loss: 0.658 acc: 73.69 time: 13.02\n",
      "TESTING:\n",
      "Accuracy of the network on the 10000 test images: 74.78 %\n",
      "Average loss on the 10000 test images: 0.644\n",
      "[43,   100] loss: 0.658 acc: 73.83 time: 13.17\n",
      "[43,   200] loss: 0.671 acc: 73.17 time: 12.99\n",
      "[43,   300] loss: 0.661 acc: 73.38 time: 13.01\n",
      "TESTING:\n",
      "Accuracy of the network on the 10000 test images: 74.59 %\n",
      "Average loss on the 10000 test images: 0.640\n",
      "[44,   100] loss: 0.658 acc: 73.99 time: 13.12\n",
      "[44,   200] loss: 0.654 acc: 74.08 time: 13.00\n",
      "[44,   300] loss: 0.661 acc: 73.56 time: 12.97\n",
      "TESTING:\n",
      "Accuracy of the network on the 10000 test images: 74.76 %\n",
      "Average loss on the 10000 test images: 0.639\n",
      "[45,   100] loss: 0.668 acc: 73.60 time: 13.27\n",
      "[45,   200] loss: 0.659 acc: 73.50 time: 13.01\n",
      "[45,   300] loss: 0.667 acc: 73.38 time: 12.98\n",
      "TESTING:\n",
      "Accuracy of the network on the 10000 test images: 74.81 %\n",
      "Average loss on the 10000 test images: 0.635\n",
      "Finished Training\n"
     ]
    }
   ],
   "source": [
    "train(net, criterion, optimizer, num_epochs=45, decay_epochs=15, init_lr=0.01, task='rotation')\n",
    "\n",
    "# TODO: Save the model\n",
    "PATH = './model.pth'\n",
    "torch.save(net.state_dict(), PATH)\n"
   ]
  },
  {
   "cell_type": "markdown",
   "metadata": {
    "id": "PLLMRTS9rTnk"
   },
   "source": [
    "# Fine-tuning on the pre-trained model\n",
    "### In this section, we will load the pre-trained ResNet18 model and fine-tune on the classification task. We will freeze all previous layers except for the 'layer4' block and 'fc' layer."
   ]
  },
  {
   "cell_type": "code",
   "execution_count": 11,
   "metadata": {
    "colab": {
     "base_uri": "https://localhost:8080/"
    },
    "executionInfo": {
     "elapsed": 673,
     "status": "ok",
     "timestamp": 1711778096289,
     "user": {
      "displayName": "Huey-Chii Liang (Ricky)",
      "userId": "11701612693566242651"
     },
     "user_tz": 300
    },
    "id": "S4nX4ExlrymI",
    "outputId": "12b38502-11b6-4389-bef9-951d984dfed9"
   },
   "outputs": [
    {
     "name": "stderr",
     "output_type": "stream",
     "text": [
      "/opt/conda/lib/python3.7/site-packages/torchvision/models/_utils.py:223: UserWarning: Arguments other than a weight enum or `None` for 'weights' are deprecated since 0.13 and will be removed in 0.15. The current behavior is equivalent to passing `weights=ResNet18_Weights.IMAGENET1K_V1`. You can also use `weights=ResNet18_Weights.DEFAULT` to get the most up-to-date weights.\n",
      "  warnings.warn(msg)\n",
      "Downloading: \"https://download.pytorch.org/models/resnet18-f37072fd.pth\" to /home/liangwiki04/.cache/torch/hub/checkpoints/resnet18-f37072fd.pth\n"
     ]
    },
    {
     "data": {
      "application/vnd.jupyter.widget-view+json": {
       "model_id": "a014712a76d641389ff7ab132cfdbbee",
       "version_major": 2,
       "version_minor": 0
      },
      "text/plain": [
       "  0%|          | 0.00/44.7M [00:00<?, ?B/s]"
      ]
     },
     "metadata": {},
     "output_type": "display_data"
    },
    {
     "name": "stdout",
     "output_type": "stream",
     "text": [
      "['conv1', 'bn1', 'relu', 'maxpool', 'layer1', 'layer2', 'layer3', 'layer4', 'avgpool', 'fc']\n"
     ]
    }
   ],
   "source": [
    "import torch.nn as nn\n",
    "import torch.nn.functional as F\n",
    "\n",
    "from torchvision.models import resnet18\n",
    "\n",
    "# TODO: Load the pre-trained ResNet18 model\n",
    "net = resnet18(weights=True).to(device)\n",
    "# print(net)\n",
    "print([n for n, _ in net.named_children()])\n"
   ]
  },
  {
   "cell_type": "code",
   "execution_count": 12,
   "metadata": {
    "executionInfo": {
     "elapsed": 98,
     "status": "ok",
     "timestamp": 1711778100142,
     "user": {
      "displayName": "Huey-Chii Liang (Ricky)",
      "userId": "11701612693566242651"
     },
     "user_tz": 300
    },
    "id": "kD44g-TxwYdU"
   },
   "outputs": [],
   "source": [
    "# TODO: Freeze all previous layers; only keep the 'layer4' block and 'fc' layer trainable\n",
    "for param in net.parameters():\n",
    "    param.requires_grad = False\n",
    "\n",
    "for param in net.layer4.parameters():\n",
    "    param.requires_grad = True\n",
    "\n",
    "for param in net.fc.parameters():\n",
    "    param.requires_grad = True\n"
   ]
  },
  {
   "cell_type": "code",
   "execution_count": 13,
   "metadata": {
    "colab": {
     "base_uri": "https://localhost:8080/"
    },
    "executionInfo": {
     "elapsed": 119,
     "status": "ok",
     "timestamp": 1711778102190,
     "user": {
      "displayName": "Huey-Chii Liang (Ricky)",
      "userId": "11701612693566242651"
     },
     "user_tz": 300
    },
    "id": "9T5DX0efr4fh",
    "outputId": "94223f45-4a78-4ab9-f3b7-54b8a9760db7"
   },
   "outputs": [
    {
     "name": "stdout",
     "output_type": "stream",
     "text": [
      "Params to learn:\n",
      "\t layer4.0.conv1.weight\n",
      "\t layer4.0.bn1.weight\n",
      "\t layer4.0.bn1.bias\n",
      "\t layer4.0.conv2.weight\n",
      "\t layer4.0.bn2.weight\n",
      "\t layer4.0.bn2.bias\n",
      "\t layer4.0.downsample.0.weight\n",
      "\t layer4.0.downsample.1.weight\n",
      "\t layer4.0.downsample.1.bias\n",
      "\t layer4.1.conv1.weight\n",
      "\t layer4.1.bn1.weight\n",
      "\t layer4.1.bn1.bias\n",
      "\t layer4.1.conv2.weight\n",
      "\t layer4.1.bn2.weight\n",
      "\t layer4.1.bn2.bias\n",
      "\t fc.weight\n",
      "\t fc.bias\n"
     ]
    }
   ],
   "source": [
    "# Print all the trainable parameters\n",
    "params_to_update = net.parameters()\n",
    "print(\"Params to learn:\")\n",
    "params_to_update = []\n",
    "for name,param in net.named_parameters():\n",
    "    if param.requires_grad == True:\n",
    "        params_to_update.append(param)\n",
    "        print(\"\\t\",name)"
   ]
  },
  {
   "cell_type": "code",
   "execution_count": 14,
   "metadata": {
    "executionInfo": {
     "elapsed": 116,
     "status": "ok",
     "timestamp": 1711778104536,
     "user": {
      "displayName": "Huey-Chii Liang (Ricky)",
      "userId": "11701612693566242651"
     },
     "user_tz": 300
    },
    "id": "xb032dG700ph"
   },
   "outputs": [],
   "source": [
    "# TODO: Define criterion and optimizer\n",
    "# Note that your optimizer only needs to update the parameters that are trainable.\n",
    "criterion = nn.CrossEntropyLoss()\n",
    "optimizer = optim.SGD(net.parameters(), lr=0.001, momentum=0.9)\n"
   ]
  },
  {
   "cell_type": "code",
   "execution_count": 15,
   "metadata": {
    "colab": {
     "base_uri": "https://localhost:8080/"
    },
    "executionInfo": {
     "elapsed": 775359,
     "status": "ok",
     "timestamp": 1711778897892,
     "user": {
      "displayName": "Huey-Chii Liang (Ricky)",
      "userId": "11701612693566242651"
     },
     "user_tz": 300
    },
    "id": "3vLSwOo6sBjl",
    "outputId": "491a4a49-acc4-4c12-f64f-fbe6e28be2a9"
   },
   "outputs": [
    {
     "name": "stdout",
     "output_type": "stream",
     "text": [
      "[1,   100] loss: 2.191 acc: 36.92 time: 11.63\n",
      "[1,   200] loss: 1.403 acc: 51.34 time: 11.42\n",
      "[1,   300] loss: 1.291 acc: 54.84 time: 11.42\n",
      "TESTING:\n",
      "Accuracy of the network on the 10000 test images: 58.26 %\n",
      "Average loss on the 10000 test images: 1.314\n",
      "[2,   100] loss: 1.168 acc: 58.95 time: 11.58\n",
      "[2,   200] loss: 1.128 acc: 60.70 time: 11.41\n",
      "[2,   300] loss: 1.121 acc: 61.08 time: 11.37\n",
      "TESTING:\n",
      "Accuracy of the network on the 10000 test images: 62.41 %\n",
      "Average loss on the 10000 test images: 1.379\n",
      "[3,   100] loss: 1.057 acc: 62.87 time: 11.69\n",
      "[3,   200] loss: 1.061 acc: 62.35 time: 11.45\n",
      "[3,   300] loss: 1.041 acc: 63.70 time: 11.46\n",
      "TESTING:\n",
      "Accuracy of the network on the 10000 test images: 61.86 %\n",
      "Average loss on the 10000 test images: 1.373\n",
      "[4,   100] loss: 0.997 acc: 64.89 time: 11.63\n",
      "[4,   200] loss: 1.002 acc: 65.48 time: 11.51\n",
      "[4,   300] loss: 0.995 acc: 65.23 time: 11.45\n",
      "TESTING:\n",
      "Accuracy of the network on the 10000 test images: 64.34 %\n",
      "Average loss on the 10000 test images: 1.272\n",
      "[5,   100] loss: 0.954 acc: 66.31 time: 11.64\n",
      "[5,   200] loss: 0.959 acc: 66.99 time: 11.45\n",
      "[5,   300] loss: 0.967 acc: 66.06 time: 11.50\n",
      "TESTING:\n",
      "Accuracy of the network on the 10000 test images: 63.61 %\n",
      "Average loss on the 10000 test images: 1.289\n",
      "[6,   100] loss: 0.938 acc: 67.28 time: 11.67\n",
      "[6,   200] loss: 0.930 acc: 67.30 time: 11.45\n",
      "[6,   300] loss: 0.960 acc: 66.70 time: 11.43\n",
      "TESTING:\n",
      "Accuracy of the network on the 10000 test images: 64.88 %\n",
      "Average loss on the 10000 test images: 1.325\n",
      "[7,   100] loss: 0.919 acc: 67.84 time: 11.60\n",
      "[7,   200] loss: 0.923 acc: 67.91 time: 11.44\n",
      "[7,   300] loss: 0.929 acc: 67.44 time: 11.44\n",
      "TESTING:\n",
      "Accuracy of the network on the 10000 test images: 66.75 %\n",
      "Average loss on the 10000 test images: 1.156\n",
      "[8,   100] loss: 0.887 acc: 68.11 time: 11.71\n",
      "[8,   200] loss: 0.905 acc: 68.06 time: 11.44\n",
      "[8,   300] loss: 0.887 acc: 68.88 time: 11.45\n",
      "TESTING:\n",
      "Accuracy of the network on the 10000 test images: 64.97 %\n",
      "Average loss on the 10000 test images: 1.261\n",
      "[9,   100] loss: 0.867 acc: 69.37 time: 11.59\n",
      "[9,   200] loss: 0.864 acc: 69.38 time: 11.51\n",
      "[9,   300] loss: 0.881 acc: 68.97 time: 11.50\n",
      "TESTING:\n",
      "Accuracy of the network on the 10000 test images: 65.47 %\n",
      "Average loss on the 10000 test images: 1.290\n",
      "[10,   100] loss: 0.844 acc: 69.88 time: 11.67\n",
      "[10,   200] loss: 0.858 acc: 69.63 time: 11.45\n",
      "[10,   300] loss: 0.863 acc: 69.71 time: 11.50\n",
      "TESTING:\n",
      "Accuracy of the network on the 10000 test images: 68.68 %\n",
      "Average loss on the 10000 test images: 0.945\n",
      "[11,   100] loss: 0.792 acc: 72.17 time: 11.66\n",
      "[11,   200] loss: 0.800 acc: 71.77 time: 11.44\n",
      "[11,   300] loss: 0.788 acc: 72.20 time: 11.44\n",
      "TESTING:\n",
      "Accuracy of the network on the 10000 test images: 69.63 %\n",
      "Average loss on the 10000 test images: 0.906\n",
      "[12,   100] loss: 0.760 acc: 73.33 time: 11.62\n",
      "[12,   200] loss: 0.779 acc: 72.35 time: 11.49\n",
      "[12,   300] loss: 0.758 acc: 72.98 time: 11.48\n",
      "TESTING:\n",
      "Accuracy of the network on the 10000 test images: 68.25 %\n",
      "Average loss on the 10000 test images: 1.027\n",
      "[13,   100] loss: 0.754 acc: 73.26 time: 11.69\n",
      "[13,   200] loss: 0.766 acc: 73.01 time: 11.45\n",
      "[13,   300] loss: 0.785 acc: 72.29 time: 11.47\n",
      "TESTING:\n",
      "Accuracy of the network on the 10000 test images: 70.53 %\n",
      "Average loss on the 10000 test images: 0.862\n",
      "[14,   100] loss: 0.747 acc: 73.76 time: 11.66\n",
      "[14,   200] loss: 0.768 acc: 72.67 time: 11.56\n",
      "[14,   300] loss: 0.750 acc: 73.58 time: 11.49\n",
      "TESTING:\n",
      "Accuracy of the network on the 10000 test images: 70.00 %\n",
      "Average loss on the 10000 test images: 0.884\n",
      "[15,   100] loss: 0.765 acc: 73.04 time: 11.65\n",
      "[15,   200] loss: 0.757 acc: 73.16 time: 11.44\n",
      "[15,   300] loss: 0.758 acc: 73.02 time: 11.51\n",
      "TESTING:\n",
      "Accuracy of the network on the 10000 test images: 69.83 %\n",
      "Average loss on the 10000 test images: 0.924\n",
      "[16,   100] loss: 0.740 acc: 73.78 time: 11.65\n",
      "[16,   200] loss: 0.738 acc: 74.16 time: 11.45\n",
      "[16,   300] loss: 0.759 acc: 72.70 time: 11.46\n",
      "TESTING:\n",
      "Accuracy of the network on the 10000 test images: 70.80 %\n",
      "Average loss on the 10000 test images: 0.861\n",
      "[17,   100] loss: 0.749 acc: 73.20 time: 11.68\n",
      "[17,   200] loss: 0.748 acc: 73.28 time: 11.50\n",
      "[17,   300] loss: 0.729 acc: 73.87 time: 11.55\n",
      "TESTING:\n",
      "Accuracy of the network on the 10000 test images: 69.91 %\n",
      "Average loss on the 10000 test images: 0.898\n",
      "[18,   100] loss: 0.754 acc: 73.05 time: 11.76\n",
      "[18,   200] loss: 0.740 acc: 73.81 time: 11.48\n",
      "[18,   300] loss: 0.729 acc: 74.64 time: 11.52\n",
      "TESTING:\n",
      "Accuracy of the network on the 10000 test images: 70.79 %\n",
      "Average loss on the 10000 test images: 0.859\n",
      "[19,   100] loss: 0.742 acc: 74.06 time: 11.63\n",
      "[19,   200] loss: 0.748 acc: 73.23 time: 11.55\n",
      "[19,   300] loss: 0.738 acc: 73.95 time: 11.50\n",
      "TESTING:\n",
      "Accuracy of the network on the 10000 test images: 70.65 %\n",
      "Average loss on the 10000 test images: 0.881\n",
      "[20,   100] loss: 0.724 acc: 74.68 time: 11.71\n",
      "[20,   200] loss: 0.720 acc: 74.30 time: 11.48\n",
      "[20,   300] loss: 0.749 acc: 73.27 time: 11.52\n",
      "TESTING:\n",
      "Accuracy of the network on the 10000 test images: 69.37 %\n",
      "Average loss on the 10000 test images: 0.997\n",
      "Finished Training\n"
     ]
    }
   ],
   "source": [
    "import os\n",
    "os.environ['CUDA_LAUNCH_BLOCKING'] = '1'\n",
    "\n",
    "train(net, criterion, optimizer, num_epochs=20, decay_epochs=10, init_lr=0.01, task='classification')\n"
   ]
  },
  {
   "cell_type": "markdown",
   "metadata": {
    "id": "ghPNhcJBrcNj"
   },
   "source": [
    "# Fine-tuning on the randomly initialized model\n",
    "### In this section, we will randomly initialize a ResNet18 model and fine-tune on the classification task. We will freeze all previous layers except for the 'layer4' block and 'fc' layer."
   ]
  },
  {
   "cell_type": "code",
   "execution_count": 16,
   "metadata": {
    "colab": {
     "base_uri": "https://localhost:8080/"
    },
    "executionInfo": {
     "elapsed": 309,
     "status": "ok",
     "timestamp": 1711778910446,
     "user": {
      "displayName": "Huey-Chii Liang (Ricky)",
      "userId": "11701612693566242651"
     },
     "user_tz": 300
    },
    "id": "2RfXAh9vxXRB",
    "outputId": "5b2a1ad8-60f9-46ed-b4d1-d5ec11c80193"
   },
   "outputs": [
    {
     "name": "stdout",
     "output_type": "stream",
     "text": [
      "['conv1', 'bn1', 'relu', 'maxpool', 'layer1', 'layer2', 'layer3', 'layer4', 'avgpool', 'fc']\n"
     ]
    }
   ],
   "source": [
    "import torch.nn as nn\n",
    "import torch.nn.functional as F\n",
    "\n",
    "from torchvision.models import resnet18\n",
    "\n",
    "# TODO: Randomly initialize a ResNet18 model\n",
    "net = resnet18().to(device)\n",
    "# print(net)\n",
    "print([n for n, _ in net.named_children()])\n"
   ]
  },
  {
   "cell_type": "code",
   "execution_count": 17,
   "metadata": {
    "executionInfo": {
     "elapsed": 107,
     "status": "ok",
     "timestamp": 1711778912976,
     "user": {
      "displayName": "Huey-Chii Liang (Ricky)",
      "userId": "11701612693566242651"
     },
     "user_tz": 300
    },
    "id": "fpx-SYAizt4p"
   },
   "outputs": [],
   "source": [
    "# TODO: Freeze all previous layers; only keep the 'layer4' block and 'fc' layer trainable\n",
    "# To do this, you should set requires_grad=False for the frozen layers.\n",
    "for param in net.parameters():\n",
    "    param.requires_grad = False\n",
    "\n",
    "for param in net.layer4.parameters():\n",
    "    param.requires_grad = True\n",
    "\n",
    "for param in net.fc.parameters():\n",
    "    param.requires_grad = True\n"
   ]
  },
  {
   "cell_type": "code",
   "execution_count": 18,
   "metadata": {
    "colab": {
     "base_uri": "https://localhost:8080/"
    },
    "executionInfo": {
     "elapsed": 89,
     "status": "ok",
     "timestamp": 1711778915111,
     "user": {
      "displayName": "Huey-Chii Liang (Ricky)",
      "userId": "11701612693566242651"
     },
     "user_tz": 300
    },
    "id": "BUFWizbHxgm2",
    "outputId": "0ec997f8-d3e2-41b7-bbbc-086c9009a587"
   },
   "outputs": [
    {
     "name": "stdout",
     "output_type": "stream",
     "text": [
      "Params to learn:\n",
      "\t layer4.0.conv1.weight\n",
      "\t layer4.0.bn1.weight\n",
      "\t layer4.0.bn1.bias\n",
      "\t layer4.0.conv2.weight\n",
      "\t layer4.0.bn2.weight\n",
      "\t layer4.0.bn2.bias\n",
      "\t layer4.0.downsample.0.weight\n",
      "\t layer4.0.downsample.1.weight\n",
      "\t layer4.0.downsample.1.bias\n",
      "\t layer4.1.conv1.weight\n",
      "\t layer4.1.bn1.weight\n",
      "\t layer4.1.bn1.bias\n",
      "\t layer4.1.conv2.weight\n",
      "\t layer4.1.bn2.weight\n",
      "\t layer4.1.bn2.bias\n",
      "\t fc.weight\n",
      "\t fc.bias\n"
     ]
    }
   ],
   "source": [
    "# Print all the trainable parameters\n",
    "params_to_update = net.parameters()\n",
    "print(\"Params to learn:\")\n",
    "params_to_update = []\n",
    "for name,param in net.named_parameters():\n",
    "    if param.requires_grad == True:\n",
    "        params_to_update.append(param)\n",
    "        print(\"\\t\",name)"
   ]
  },
  {
   "cell_type": "code",
   "execution_count": 19,
   "metadata": {
    "executionInfo": {
     "elapsed": 97,
     "status": "ok",
     "timestamp": 1711778920402,
     "user": {
      "displayName": "Huey-Chii Liang (Ricky)",
      "userId": "11701612693566242651"
     },
     "user_tz": 300
    },
    "id": "BxFrGj091AN_"
   },
   "outputs": [],
   "source": [
    "# TODO: Define criterion and optimizer\n",
    "# Note that your optimizer only needs to update the parameters that are trainable.\n",
    "criterion = nn.CrossEntropyLoss()\n",
    "optimizer = optim.SGD(net.parameters(), lr=0.001, momentum=0.9)\n"
   ]
  },
  {
   "cell_type": "code",
   "execution_count": 20,
   "metadata": {
    "colab": {
     "base_uri": "https://localhost:8080/"
    },
    "executionInfo": {
     "elapsed": 791655,
     "status": "ok",
     "timestamp": 1711779714362,
     "user": {
      "displayName": "Huey-Chii Liang (Ricky)",
      "userId": "11701612693566242651"
     },
     "user_tz": 300
    },
    "id": "GzRVy0MZxpoL",
    "outputId": "8d05f77e-407f-4cfc-d130-2af9e6ca86c1"
   },
   "outputs": [
    {
     "name": "stdout",
     "output_type": "stream",
     "text": [
      "[1,   100] loss: 2.356 acc: 23.04 time: 11.58\n",
      "[1,   200] loss: 1.990 acc: 28.62 time: 11.36\n",
      "[1,   300] loss: 1.950 acc: 29.88 time: 11.37\n",
      "TESTING:\n",
      "Accuracy of the network on the 10000 test images: 33.57 %\n",
      "Average loss on the 10000 test images: 1.908\n",
      "[2,   100] loss: 1.891 acc: 32.14 time: 11.67\n",
      "[2,   200] loss: 1.864 acc: 32.96 time: 11.36\n",
      "[2,   300] loss: 1.838 acc: 33.54 time: 11.38\n",
      "TESTING:\n",
      "Accuracy of the network on the 10000 test images: 37.61 %\n",
      "Average loss on the 10000 test images: 1.726\n",
      "[3,   100] loss: 1.842 acc: 33.37 time: 11.58\n",
      "[3,   200] loss: 1.813 acc: 35.20 time: 11.41\n",
      "[3,   300] loss: 1.804 acc: 34.30 time: 11.34\n",
      "TESTING:\n",
      "Accuracy of the network on the 10000 test images: 38.84 %\n",
      "Average loss on the 10000 test images: 1.734\n",
      "[4,   100] loss: 1.789 acc: 35.38 time: 11.54\n",
      "[4,   200] loss: 1.768 acc: 36.01 time: 11.34\n",
      "[4,   300] loss: 1.762 acc: 36.30 time: 11.41\n",
      "TESTING:\n",
      "Accuracy of the network on the 10000 test images: 39.66 %\n",
      "Average loss on the 10000 test images: 1.679\n",
      "[5,   100] loss: 1.768 acc: 36.50 time: 11.63\n",
      "[5,   200] loss: 1.757 acc: 36.55 time: 11.41\n",
      "[5,   300] loss: 1.764 acc: 36.09 time: 11.38\n",
      "TESTING:\n",
      "Accuracy of the network on the 10000 test images: 40.61 %\n",
      "Average loss on the 10000 test images: 1.665\n",
      "[6,   100] loss: 1.742 acc: 37.84 time: 11.57\n",
      "[6,   200] loss: 1.724 acc: 38.39 time: 11.38\n",
      "[6,   300] loss: 1.747 acc: 36.73 time: 11.43\n",
      "TESTING:\n",
      "Accuracy of the network on the 10000 test images: 41.88 %\n",
      "Average loss on the 10000 test images: 1.626\n",
      "[7,   100] loss: 1.713 acc: 38.37 time: 11.67\n",
      "[7,   200] loss: 1.712 acc: 39.26 time: 11.39\n",
      "[7,   300] loss: 1.708 acc: 38.83 time: 11.40\n",
      "TESTING:\n",
      "Accuracy of the network on the 10000 test images: 41.90 %\n",
      "Average loss on the 10000 test images: 1.613\n",
      "[8,   100] loss: 1.716 acc: 38.61 time: 11.60\n",
      "[8,   200] loss: 1.695 acc: 39.16 time: 11.46\n",
      "[8,   300] loss: 1.711 acc: 38.27 time: 11.39\n",
      "TESTING:\n",
      "Accuracy of the network on the 10000 test images: 41.30 %\n",
      "Average loss on the 10000 test images: 1.645\n",
      "[9,   100] loss: 1.693 acc: 39.26 time: 11.58\n",
      "[9,   200] loss: 1.676 acc: 40.42 time: 11.43\n",
      "[9,   300] loss: 1.691 acc: 38.59 time: 11.48\n",
      "TESTING:\n",
      "Accuracy of the network on the 10000 test images: 43.44 %\n",
      "Average loss on the 10000 test images: 1.586\n",
      "[10,   100] loss: 1.664 acc: 40.12 time: 11.59\n",
      "[10,   200] loss: 1.683 acc: 39.62 time: 11.41\n",
      "[10,   300] loss: 1.682 acc: 39.00 time: 11.41\n",
      "TESTING:\n",
      "Accuracy of the network on the 10000 test images: 42.85 %\n",
      "Average loss on the 10000 test images: 1.599\n",
      "[11,   100] loss: 1.632 acc: 41.74 time: 11.59\n",
      "[11,   200] loss: 1.621 acc: 42.14 time: 11.37\n",
      "[11,   300] loss: 1.613 acc: 41.77 time: 11.39\n",
      "TESTING:\n",
      "Accuracy of the network on the 10000 test images: 44.93 %\n",
      "Average loss on the 10000 test images: 1.553\n",
      "[12,   100] loss: 1.605 acc: 43.10 time: 11.66\n",
      "[12,   200] loss: 1.609 acc: 42.01 time: 11.39\n",
      "[12,   300] loss: 1.616 acc: 42.01 time: 11.38\n",
      "TESTING:\n",
      "Accuracy of the network on the 10000 test images: 44.88 %\n",
      "Average loss on the 10000 test images: 1.556\n",
      "[13,   100] loss: 1.604 acc: 41.94 time: 11.57\n",
      "[13,   200] loss: 1.597 acc: 43.08 time: 11.45\n",
      "[13,   300] loss: 1.586 acc: 43.05 time: 11.41\n",
      "TESTING:\n",
      "Accuracy of the network on the 10000 test images: 44.92 %\n",
      "Average loss on the 10000 test images: 1.545\n",
      "[14,   100] loss: 1.587 acc: 42.77 time: 11.60\n",
      "[14,   200] loss: 1.594 acc: 42.70 time: 11.44\n",
      "[14,   300] loss: 1.584 acc: 43.32 time: 11.49\n",
      "TESTING:\n",
      "Accuracy of the network on the 10000 test images: 45.42 %\n",
      "Average loss on the 10000 test images: 1.540\n",
      "[15,   100] loss: 1.589 acc: 42.76 time: 11.57\n",
      "[15,   200] loss: 1.584 acc: 43.11 time: 11.39\n",
      "[15,   300] loss: 1.592 acc: 43.14 time: 11.38\n",
      "TESTING:\n",
      "Accuracy of the network on the 10000 test images: 45.38 %\n",
      "Average loss on the 10000 test images: 1.544\n",
      "[16,   100] loss: 1.591 acc: 43.23 time: 11.55\n",
      "[16,   200] loss: 1.583 acc: 43.21 time: 11.38\n",
      "[16,   300] loss: 1.603 acc: 42.23 time: 11.40\n",
      "TESTING:\n",
      "Accuracy of the network on the 10000 test images: 45.36 %\n",
      "Average loss on the 10000 test images: 1.537\n",
      "[17,   100] loss: 1.584 acc: 43.18 time: 11.65\n",
      "[17,   200] loss: 1.582 acc: 43.73 time: 11.39\n",
      "[17,   300] loss: 1.588 acc: 42.80 time: 11.42\n",
      "TESTING:\n",
      "Accuracy of the network on the 10000 test images: 45.80 %\n",
      "Average loss on the 10000 test images: 1.535\n",
      "[18,   100] loss: 1.579 acc: 43.38 time: 11.58\n",
      "[18,   200] loss: 1.562 acc: 44.11 time: 11.44\n",
      "[18,   300] loss: 1.585 acc: 43.58 time: 11.39\n",
      "TESTING:\n",
      "Accuracy of the network on the 10000 test images: 45.59 %\n",
      "Average loss on the 10000 test images: 1.531\n",
      "[19,   100] loss: 1.568 acc: 43.96 time: 11.56\n",
      "[19,   200] loss: 1.576 acc: 43.71 time: 11.40\n",
      "[19,   300] loss: 1.588 acc: 42.93 time: 11.45\n",
      "TESTING:\n",
      "Accuracy of the network on the 10000 test images: 45.14 %\n",
      "Average loss on the 10000 test images: 1.536\n",
      "[20,   100] loss: 1.564 acc: 44.23 time: 11.57\n",
      "[20,   200] loss: 1.574 acc: 43.78 time: 11.46\n",
      "[20,   300] loss: 1.595 acc: 42.73 time: 11.38\n",
      "TESTING:\n",
      "Accuracy of the network on the 10000 test images: 45.65 %\n",
      "Average loss on the 10000 test images: 1.537\n",
      "Finished Training\n"
     ]
    }
   ],
   "source": [
    "train(net, criterion, optimizer, num_epochs=20, decay_epochs=10, init_lr=0.01, task='classification')"
   ]
  },
  {
   "cell_type": "markdown",
   "metadata": {
    "id": "WcN54tcNN15U"
   },
   "source": [
    "# Supervised training on the pre-trained model\n",
    "### In this section, we will load the pre-trained ResNet18 model and re-train the whole model on the classification task."
   ]
  },
  {
   "cell_type": "code",
   "execution_count": 21,
   "metadata": {
    "colab": {
     "base_uri": "https://localhost:8080/"
    },
    "executionInfo": {
     "elapsed": 308,
     "status": "ok",
     "timestamp": 1711779724146,
     "user": {
      "displayName": "Huey-Chii Liang (Ricky)",
      "userId": "11701612693566242651"
     },
     "user_tz": 300
    },
    "id": "9xR9h_S1N6Xi",
    "outputId": "fa1bdb1d-712f-4fb9-9263-82028f0d1b5f"
   },
   "outputs": [],
   "source": [
    "import torch.nn as nn\n",
    "import torch.nn.functional as F\n",
    "\n",
    "from torchvision.models import resnet18\n",
    "\n",
    "# TODO: Load the pre-trained ResNet18 model\n",
    "net = resnet18(weights=True).to(device)\n",
    "for param in net.parameters():\n",
    "    param.requires_grad = True\n"
   ]
  },
  {
   "cell_type": "code",
   "execution_count": 22,
   "metadata": {
    "executionInfo": {
     "elapsed": 98,
     "status": "ok",
     "timestamp": 1711779776709,
     "user": {
      "displayName": "Huey-Chii Liang (Ricky)",
      "userId": "11701612693566242651"
     },
     "user_tz": 300
    },
    "id": "gGozc2cM0ADw"
   },
   "outputs": [],
   "source": [
    "# TODO: Define criterion and optimizer\n",
    "criterion = nn.CrossEntropyLoss()\n",
    "optimizer = optim.SGD(net.parameters(), lr=0.001, momentum=0.9)\n"
   ]
  },
  {
   "cell_type": "code",
   "execution_count": 23,
   "metadata": {
    "colab": {
     "base_uri": "https://localhost:8080/"
    },
    "executionInfo": {
     "elapsed": 797500,
     "status": "ok",
     "timestamp": 1711780581563,
     "user": {
      "displayName": "Huey-Chii Liang (Ricky)",
      "userId": "11701612693566242651"
     },
     "user_tz": 300
    },
    "id": "JGWW7gzCz_Bu",
    "outputId": "81c94c2a-a0b6-4a17-82d0-97328f9589da"
   },
   "outputs": [
    {
     "name": "stdout",
     "output_type": "stream",
     "text": [
      "[1,   100] loss: 2.302 acc: 26.05 time: 13.26\n",
      "[1,   200] loss: 1.521 acc: 45.63 time: 13.06\n",
      "[1,   300] loss: 1.185 acc: 59.16 time: 13.04\n",
      "TESTING:\n",
      "Accuracy of the network on the 10000 test images: 68.38 %\n",
      "Average loss on the 10000 test images: 0.915\n",
      "[2,   100] loss: 0.924 acc: 68.23 time: 13.26\n",
      "[2,   200] loss: 0.882 acc: 70.16 time: 13.13\n",
      "[2,   300] loss: 0.827 acc: 72.02 time: 13.13\n",
      "TESTING:\n",
      "Accuracy of the network on the 10000 test images: 72.96 %\n",
      "Average loss on the 10000 test images: 0.823\n",
      "[3,   100] loss: 0.749 acc: 74.80 time: 13.38\n",
      "[3,   200] loss: 0.721 acc: 75.64 time: 13.16\n",
      "[3,   300] loss: 0.685 acc: 76.59 time: 13.15\n",
      "TESTING:\n",
      "Accuracy of the network on the 10000 test images: 76.86 %\n",
      "Average loss on the 10000 test images: 0.689\n",
      "[4,   100] loss: 0.637 acc: 78.11 time: 13.37\n",
      "[4,   200] loss: 0.627 acc: 78.26 time: 13.14\n",
      "[4,   300] loss: 0.630 acc: 78.79 time: 13.12\n",
      "TESTING:\n",
      "Accuracy of the network on the 10000 test images: 78.61 %\n",
      "Average loss on the 10000 test images: 0.626\n",
      "[5,   100] loss: 0.627 acc: 78.78 time: 13.36\n",
      "[5,   200] loss: 0.592 acc: 79.67 time: 13.17\n",
      "[5,   300] loss: 0.577 acc: 80.64 time: 13.16\n",
      "TESTING:\n",
      "Accuracy of the network on the 10000 test images: 80.55 %\n",
      "Average loss on the 10000 test images: 0.565\n",
      "[6,   100] loss: 0.536 acc: 81.45 time: 13.31\n",
      "[6,   200] loss: 0.558 acc: 80.60 time: 13.20\n",
      "[6,   300] loss: 0.554 acc: 81.00 time: 13.15\n",
      "TESTING:\n",
      "Accuracy of the network on the 10000 test images: 80.02 %\n",
      "Average loss on the 10000 test images: 0.584\n",
      "[7,   100] loss: 0.490 acc: 83.13 time: 13.33\n",
      "[7,   200] loss: 0.516 acc: 82.19 time: 13.18\n",
      "[7,   300] loss: 0.517 acc: 82.59 time: 13.14\n",
      "TESTING:\n",
      "Accuracy of the network on the 10000 test images: 82.10 %\n",
      "Average loss on the 10000 test images: 0.543\n",
      "[8,   100] loss: 0.532 acc: 82.41 time: 13.31\n",
      "[8,   200] loss: 0.510 acc: 82.28 time: 13.13\n",
      "[8,   300] loss: 0.490 acc: 83.03 time: 13.16\n",
      "TESTING:\n",
      "Accuracy of the network on the 10000 test images: 83.63 %\n",
      "Average loss on the 10000 test images: 0.491\n",
      "[9,   100] loss: 0.465 acc: 83.87 time: 13.31\n",
      "[9,   200] loss: 0.462 acc: 84.14 time: 13.12\n",
      "[9,   300] loss: 0.460 acc: 84.39 time: 13.20\n",
      "TESTING:\n",
      "Accuracy of the network on the 10000 test images: 83.23 %\n",
      "Average loss on the 10000 test images: 0.506\n",
      "[10,   100] loss: 0.440 acc: 84.85 time: 13.29\n",
      "[10,   200] loss: 0.445 acc: 84.45 time: 13.15\n",
      "[10,   300] loss: 0.454 acc: 84.40 time: 13.17\n",
      "TESTING:\n",
      "Accuracy of the network on the 10000 test images: 83.49 %\n",
      "Average loss on the 10000 test images: 0.494\n",
      "[11,   100] loss: 0.375 acc: 87.21 time: 13.29\n",
      "[11,   200] loss: 0.348 acc: 88.05 time: 13.12\n",
      "[11,   300] loss: 0.340 acc: 88.35 time: 13.12\n",
      "TESTING:\n",
      "Accuracy of the network on the 10000 test images: 85.42 %\n",
      "Average loss on the 10000 test images: 0.434\n",
      "[12,   100] loss: 0.331 acc: 88.65 time: 13.29\n",
      "[12,   200] loss: 0.335 acc: 88.40 time: 13.12\n",
      "[12,   300] loss: 0.329 acc: 88.77 time: 13.14\n",
      "TESTING:\n",
      "Accuracy of the network on the 10000 test images: 85.80 %\n",
      "Average loss on the 10000 test images: 0.426\n",
      "[13,   100] loss: 0.313 acc: 89.00 time: 13.30\n",
      "[13,   200] loss: 0.319 acc: 88.87 time: 13.10\n",
      "[13,   300] loss: 0.326 acc: 88.89 time: 13.17\n",
      "TESTING:\n",
      "Accuracy of the network on the 10000 test images: 85.93 %\n",
      "Average loss on the 10000 test images: 0.425\n",
      "[14,   100] loss: 0.315 acc: 89.03 time: 13.33\n",
      "[14,   200] loss: 0.311 acc: 89.16 time: 13.11\n",
      "[14,   300] loss: 0.305 acc: 89.30 time: 13.16\n",
      "TESTING:\n",
      "Accuracy of the network on the 10000 test images: 86.02 %\n",
      "Average loss on the 10000 test images: 0.423\n",
      "[15,   100] loss: 0.302 acc: 89.84 time: 13.34\n",
      "[15,   200] loss: 0.312 acc: 89.20 time: 13.14\n",
      "[15,   300] loss: 0.300 acc: 89.48 time: 13.12\n",
      "TESTING:\n",
      "Accuracy of the network on the 10000 test images: 85.97 %\n",
      "Average loss on the 10000 test images: 0.423\n",
      "[16,   100] loss: 0.299 acc: 89.45 time: 13.36\n",
      "[16,   200] loss: 0.306 acc: 89.52 time: 13.13\n",
      "[16,   300] loss: 0.301 acc: 89.54 time: 13.15\n",
      "TESTING:\n",
      "Accuracy of the network on the 10000 test images: 86.17 %\n",
      "Average loss on the 10000 test images: 0.420\n",
      "[17,   100] loss: 0.294 acc: 89.77 time: 13.31\n",
      "[17,   200] loss: 0.295 acc: 89.74 time: 13.17\n",
      "[17,   300] loss: 0.295 acc: 89.90 time: 13.11\n",
      "TESTING:\n",
      "Accuracy of the network on the 10000 test images: 85.93 %\n",
      "Average loss on the 10000 test images: 0.423\n",
      "[18,   100] loss: 0.291 acc: 89.80 time: 13.32\n",
      "[18,   200] loss: 0.292 acc: 89.70 time: 13.24\n",
      "[18,   300] loss: 0.285 acc: 90.38 time: 13.13\n",
      "TESTING:\n",
      "Accuracy of the network on the 10000 test images: 86.27 %\n",
      "Average loss on the 10000 test images: 0.420\n",
      "[19,   100] loss: 0.288 acc: 89.92 time: 13.36\n",
      "[19,   200] loss: 0.274 acc: 90.27 time: 13.24\n",
      "[19,   300] loss: 0.288 acc: 89.91 time: 13.15\n",
      "TESTING:\n",
      "Accuracy of the network on the 10000 test images: 86.18 %\n",
      "Average loss on the 10000 test images: 0.420\n",
      "[20,   100] loss: 0.271 acc: 90.53 time: 13.27\n",
      "[20,   200] loss: 0.274 acc: 90.45 time: 13.12\n",
      "[20,   300] loss: 0.283 acc: 89.93 time: 13.17\n",
      "TESTING:\n",
      "Accuracy of the network on the 10000 test images: 86.17 %\n",
      "Average loss on the 10000 test images: 0.422\n",
      "Finished Training\n"
     ]
    }
   ],
   "source": [
    "train(net, criterion, optimizer, num_epochs=20, decay_epochs=10, init_lr=0.01, task='classification')"
   ]
  },
  {
   "cell_type": "markdown",
   "metadata": {
    "id": "xjVTp9jhefTi"
   },
   "source": [
    "# Supervised training on the randomly initialized model\n",
    "### In this section, we will randomly initialize a ResNet18 model and re-train the whole model on the classification task."
   ]
  },
  {
   "cell_type": "code",
   "execution_count": 24,
   "metadata": {
    "executionInfo": {
     "elapsed": 268,
     "status": "ok",
     "timestamp": 1711781116268,
     "user": {
      "displayName": "Huey-Chii Liang (Ricky)",
      "userId": "11701612693566242651"
     },
     "user_tz": 300
    },
    "id": "uEjy8TBieeLK"
   },
   "outputs": [],
   "source": [
    "import torch.nn as nn\n",
    "import torch.nn.functional as F\n",
    "\n",
    "from torchvision.models import resnet18\n",
    "\n",
    "# TODO: Randomly initialize a ResNet18 model\n",
    "net = resnet18().to(device)\n",
    "for param in net.parameters():\n",
    "    param.requires_grad = True\n"
   ]
  },
  {
   "cell_type": "code",
   "execution_count": 25,
   "metadata": {
    "executionInfo": {
     "elapsed": 89,
     "status": "ok",
     "timestamp": 1711781119412,
     "user": {
      "displayName": "Huey-Chii Liang (Ricky)",
      "userId": "11701612693566242651"
     },
     "user_tz": 300
    },
    "id": "jEY90pK_0ZAm"
   },
   "outputs": [],
   "source": [
    "# TODO: Define criterion and optimizer\n",
    "criterion = nn.CrossEntropyLoss()\n",
    "optimizer = optim.SGD(net.parameters(), lr=0.001, momentum=0.9)\n"
   ]
  },
  {
   "cell_type": "code",
   "execution_count": 26,
   "metadata": {
    "colab": {
     "base_uri": "https://localhost:8080/"
    },
    "executionInfo": {
     "elapsed": 796405,
     "status": "ok",
     "timestamp": 1711781917326,
     "user": {
      "displayName": "Huey-Chii Liang (Ricky)",
      "userId": "11701612693566242651"
     },
     "user_tz": 300
    },
    "id": "lMDwelhY0auO",
    "outputId": "e054eadb-3ba7-4805-e8de-42db983e3d60"
   },
   "outputs": [
    {
     "name": "stdout",
     "output_type": "stream",
     "text": [
      "[1,   100] loss: 2.195 acc: 27.48 time: 13.28\n",
      "[1,   200] loss: 1.699 acc: 38.18 time: 13.05\n",
      "[1,   300] loss: 1.581 acc: 41.94 time: 13.05\n",
      "TESTING:\n",
      "Accuracy of the network on the 10000 test images: 49.58 %\n",
      "Average loss on the 10000 test images: 1.355\n",
      "[2,   100] loss: 1.426 acc: 48.40 time: 13.30\n",
      "[2,   200] loss: 1.365 acc: 50.84 time: 13.12\n",
      "[2,   300] loss: 1.323 acc: 51.94 time: 13.13\n",
      "TESTING:\n",
      "Accuracy of the network on the 10000 test images: 54.44 %\n",
      "Average loss on the 10000 test images: 1.267\n",
      "[3,   100] loss: 1.227 acc: 55.64 time: 13.27\n",
      "[3,   200] loss: 1.194 acc: 57.54 time: 13.09\n",
      "[3,   300] loss: 1.158 acc: 58.85 time: 13.11\n",
      "TESTING:\n",
      "Accuracy of the network on the 10000 test images: 63.36 %\n",
      "Average loss on the 10000 test images: 1.039\n",
      "[4,   100] loss: 1.059 acc: 62.05 time: 13.29\n",
      "[4,   200] loss: 1.081 acc: 61.37 time: 13.11\n",
      "[4,   300] loss: 1.057 acc: 62.58 time: 13.11\n",
      "TESTING:\n",
      "Accuracy of the network on the 10000 test images: 63.96 %\n",
      "Average loss on the 10000 test images: 1.003\n",
      "[5,   100] loss: 0.997 acc: 64.66 time: 13.38\n",
      "[5,   200] loss: 0.994 acc: 64.74 time: 13.12\n",
      "[5,   300] loss: 0.974 acc: 65.38 time: 13.12\n",
      "TESTING:\n",
      "Accuracy of the network on the 10000 test images: 66.17 %\n",
      "Average loss on the 10000 test images: 0.966\n",
      "[6,   100] loss: 0.928 acc: 67.38 time: 13.34\n",
      "[6,   200] loss: 0.938 acc: 67.02 time: 13.12\n",
      "[6,   300] loss: 0.914 acc: 67.59 time: 13.11\n",
      "TESTING:\n",
      "Accuracy of the network on the 10000 test images: 69.21 %\n",
      "Average loss on the 10000 test images: 0.882\n",
      "[7,   100] loss: 0.865 acc: 69.21 time: 13.35\n",
      "[7,   200] loss: 0.875 acc: 68.69 time: 13.11\n",
      "[7,   300] loss: 0.871 acc: 70.01 time: 13.14\n",
      "TESTING:\n",
      "Accuracy of the network on the 10000 test images: 70.85 %\n",
      "Average loss on the 10000 test images: 0.841\n",
      "[8,   100] loss: 0.834 acc: 70.95 time: 13.35\n",
      "[8,   200] loss: 0.822 acc: 71.26 time: 13.16\n",
      "[8,   300] loss: 0.821 acc: 70.92 time: 13.15\n",
      "TESTING:\n",
      "Accuracy of the network on the 10000 test images: 69.32 %\n",
      "Average loss on the 10000 test images: 0.891\n",
      "[9,   100] loss: 0.776 acc: 72.26 time: 13.27\n",
      "[9,   200] loss: 0.767 acc: 72.84 time: 13.16\n",
      "[9,   300] loss: 0.797 acc: 71.89 time: 13.10\n",
      "TESTING:\n",
      "Accuracy of the network on the 10000 test images: 73.67 %\n",
      "Average loss on the 10000 test images: 0.773\n",
      "[10,   100] loss: 0.744 acc: 73.62 time: 13.29\n",
      "[10,   200] loss: 0.758 acc: 73.31 time: 13.12\n",
      "[10,   300] loss: 0.746 acc: 73.56 time: 13.19\n",
      "TESTING:\n",
      "Accuracy of the network on the 10000 test images: 70.62 %\n",
      "Average loss on the 10000 test images: 0.872\n",
      "[11,   100] loss: 0.667 acc: 76.29 time: 13.31\n",
      "[11,   200] loss: 0.644 acc: 77.57 time: 13.14\n",
      "[11,   300] loss: 0.631 acc: 78.11 time: 13.16\n",
      "TESTING:\n",
      "Accuracy of the network on the 10000 test images: 77.37 %\n",
      "Average loss on the 10000 test images: 0.647\n",
      "[12,   100] loss: 0.628 acc: 78.14 time: 13.28\n",
      "[12,   200] loss: 0.590 acc: 79.03 time: 13.09\n",
      "[12,   300] loss: 0.606 acc: 78.89 time: 13.15\n",
      "TESTING:\n",
      "Accuracy of the network on the 10000 test images: 77.29 %\n",
      "Average loss on the 10000 test images: 0.652\n",
      "[13,   100] loss: 0.605 acc: 78.49 time: 13.28\n",
      "[13,   200] loss: 0.597 acc: 78.90 time: 13.11\n",
      "[13,   300] loss: 0.592 acc: 78.76 time: 13.13\n",
      "TESTING:\n",
      "Accuracy of the network on the 10000 test images: 77.55 %\n",
      "Average loss on the 10000 test images: 0.648\n",
      "[14,   100] loss: 0.588 acc: 79.50 time: 13.36\n",
      "[14,   200] loss: 0.603 acc: 78.55 time: 13.15\n",
      "[14,   300] loss: 0.585 acc: 79.08 time: 13.11\n",
      "TESTING:\n",
      "Accuracy of the network on the 10000 test images: 78.14 %\n",
      "Average loss on the 10000 test images: 0.637\n",
      "[15,   100] loss: 0.583 acc: 79.51 time: 13.33\n",
      "[15,   200] loss: 0.584 acc: 79.17 time: 13.15\n",
      "[15,   300] loss: 0.574 acc: 79.88 time: 13.08\n",
      "TESTING:\n",
      "Accuracy of the network on the 10000 test images: 78.09 %\n",
      "Average loss on the 10000 test images: 0.632\n",
      "[16,   100] loss: 0.577 acc: 79.41 time: 13.38\n",
      "[16,   200] loss: 0.557 acc: 80.38 time: 13.10\n",
      "[16,   300] loss: 0.588 acc: 79.28 time: 13.07\n",
      "TESTING:\n",
      "Accuracy of the network on the 10000 test images: 78.29 %\n",
      "Average loss on the 10000 test images: 0.631\n",
      "[17,   100] loss: 0.578 acc: 79.91 time: 13.35\n",
      "[17,   200] loss: 0.563 acc: 80.28 time: 13.12\n",
      "[17,   300] loss: 0.557 acc: 80.45 time: 13.08\n",
      "TESTING:\n",
      "Accuracy of the network on the 10000 test images: 78.63 %\n",
      "Average loss on the 10000 test images: 0.626\n",
      "[18,   100] loss: 0.556 acc: 80.45 time: 13.32\n",
      "[18,   200] loss: 0.559 acc: 80.26 time: 13.12\n",
      "[18,   300] loss: 0.562 acc: 80.39 time: 13.13\n",
      "TESTING:\n",
      "Accuracy of the network on the 10000 test images: 78.30 %\n",
      "Average loss on the 10000 test images: 0.627\n",
      "[19,   100] loss: 0.559 acc: 80.23 time: 13.32\n",
      "[19,   200] loss: 0.551 acc: 80.67 time: 13.17\n",
      "[19,   300] loss: 0.544 acc: 80.20 time: 13.18\n",
      "TESTING:\n",
      "Accuracy of the network on the 10000 test images: 78.67 %\n",
      "Average loss on the 10000 test images: 0.625\n",
      "[20,   100] loss: 0.547 acc: 80.98 time: 13.27\n",
      "[20,   200] loss: 0.554 acc: 80.54 time: 13.20\n",
      "[20,   300] loss: 0.547 acc: 80.90 time: 13.12\n",
      "TESTING:\n",
      "Accuracy of the network on the 10000 test images: 78.62 %\n",
      "Average loss on the 10000 test images: 0.621\n",
      "Finished Training\n"
     ]
    }
   ],
   "source": [
    "train(net, criterion, optimizer, num_epochs=20, decay_epochs=10, init_lr=0.01, task='classification')"
   ]
  },
  {
   "cell_type": "code",
   "execution_count": null,
   "metadata": {
    "id": "sVCsgabeGwrK"
   },
   "outputs": [],
   "source": []
  }
 ],
 "metadata": {
  "accelerator": "GPU",
  "colab": {
   "gpuType": "T4",
   "provenance": [
    {
     "file_id": "1qQ3NEaCUln7yDSksrEOnDwrt3u9dYNr4",
     "timestamp": 1677623843954
    }
   ]
  },
  "kernelspec": {
   "display_name": "Python 3 (ipykernel)",
   "language": "python",
   "name": "python3"
  },
  "language_info": {
   "codemirror_mode": {
    "name": "ipython",
    "version": 3
   },
   "file_extension": ".py",
   "mimetype": "text/x-python",
   "name": "python",
   "nbconvert_exporter": "python",
   "pygments_lexer": "ipython3",
   "version": "3.8.18"
  }
 },
 "nbformat": 4,
 "nbformat_minor": 4
}
